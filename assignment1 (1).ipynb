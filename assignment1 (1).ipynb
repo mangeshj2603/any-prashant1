{
 "cells": [
  {
   "cell_type": "code",
   "execution_count": 4,
   "id": "b051a35c-a485-4c94-b6fd-168e617d6299",
   "metadata": {},
   "outputs": [
    {
     "name": "stdout",
     "output_type": "stream",
     "text": [
      "55.0\n"
     ]
    }
   ],
   "source": [
    "#1 convert an integer to a floating-point number.\n",
    "num = 55\n",
    "\n",
    "floting = float(num)\n",
    "\n",
    "print(floting)"
   ]
  },
  {
   "cell_type": "code",
   "execution_count": 6,
   "id": "97ce5af0-3803-42ca-9913-d35feff0360a",
   "metadata": {},
   "outputs": [
    {
     "name": "stdout",
     "output_type": "stream",
     "text": [
      "5\n"
     ]
    }
   ],
   "source": [
    "#2 covert a flot to an integer.\n",
    "num = 5.6\n",
    "\n",
    "intiger = int(num)\n",
    "\n",
    "print(intiger)\n",
    "\n"
   ]
  },
  {
   "cell_type": "code",
   "execution_count": 12,
   "id": "a08091f0-49f1-423c-92cb-f97a275612dc",
   "metadata": {},
   "outputs": [
    {
     "name": "stdout",
     "output_type": "stream",
     "text": [
      "57\n"
     ]
    }
   ],
   "source": [
    "# convert integer to a string.\n",
    "\n",
    "num = 57\n",
    "\n",
    "string = str(num)\n",
    "\n",
    "print(string)\n"
   ]
  },
  {
   "cell_type": "code",
   "execution_count": 16,
   "id": "c677e3dc-babe-4456-996d-4cd5a182d2d7",
   "metadata": {},
   "outputs": [
    {
     "name": "stdout",
     "output_type": "stream",
     "text": [
      "x = [1, 2, 3, 'prashant']\n"
     ]
    }
   ],
   "source": [
    "#4 convert a list to a tuple\n",
    "\n",
    "my_list = [1,2,3,\"prashant\"]\n",
    "\n",
    "mytuple = tuple(my_list)\n",
    "\n",
    "print(\"x\", \"=\", my_list)"
   ]
  },
  {
   "cell_type": "code",
   "execution_count": 21,
   "id": "53a15ab9-ceda-450f-a1e9-6bad28b66925",
   "metadata": {},
   "outputs": [
    {
     "name": "stdout",
     "output_type": "stream",
     "text": [
      "y = ['prashant', 'aniket', 'ranjt', 'manoj']\n"
     ]
    }
   ],
   "source": [
    "#5 convert tuple to a list.\n",
    "\n",
    "my_tuple =[\"prashant\", \"aniket\", \"ranjt\", \"manoj\"]\n",
    "\n",
    "my_tuple = list(my_tuple)\n",
    "\n",
    "print(\"y\",\"=\",my_tuple)"
   ]
  },
  {
   "cell_type": "code",
   "execution_count": null,
   "id": "22565c23-503d-4b9a-8c97-4354f3c33fb6",
   "metadata": {},
   "outputs": [],
   "source": [
    "#6 convert decimal number to binary number.\n",
    "\n",
    "decimal_number = 3\n",
    "\n",
    "decimal_number = bin(decimal_number)\n",
    "\n",
    "print(decimal_number)"
   ]
  }
 ],
 "metadata": {
  "kernelspec": {
   "display_name": "Python 3 (ipykernel)",
   "language": "python",
   "name": "python3"
  },
  "language_info": {
   "codemirror_mode": {
    "name": "ipython",
    "version": 3
   },
   "file_extension": ".py",
   "mimetype": "text/x-python",
   "name": "python",
   "nbconvert_exporter": "python",
   "pygments_lexer": "ipython3",
   "version": "3.10.8"
  }
 },
 "nbformat": 4,
 "nbformat_minor": 5
}
