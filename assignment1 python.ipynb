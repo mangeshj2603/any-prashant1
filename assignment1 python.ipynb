{
 "cells": [
  {
   "cell_type": "code",
   "execution_count": 3,
   "id": "9be47eba-bb61-45d1-bf35-69699c7e3389",
   "metadata": {},
   "outputs": [
    {
     "name": "stdout",
     "output_type": "stream",
     "text": [
      "34.0\n"
     ]
    }
   ],
   "source": [
    "#1 convert an integer to a floating-point number.\n",
    "\n",
    "num = 34\n",
    "\n",
    "floting =float(num)\n",
    "\n",
    "print(floting)"
   ]
  },
  {
   "cell_type": "code",
   "execution_count": 6,
   "id": "67eeac71-976f-43a3-980d-f56d4bd339ed",
   "metadata": {},
   "outputs": [
    {
     "name": "stdout",
     "output_type": "stream",
     "text": [
      "385\n"
     ]
    }
   ],
   "source": [
    "#2 convert a float to an integer.\n",
    "\n",
    "my_floating = 385\n",
    "\n",
    "my_integer = int(my_floating)\n",
    "\n",
    "print(my_floating)"
   ]
  },
  {
   "cell_type": "code",
   "execution_count": 9,
   "id": "0a1a6f0b-bfbf-4d57-806a-40e979cb8d83",
   "metadata": {},
   "outputs": [
    {
     "name": "stdout",
     "output_type": "stream",
     "text": [
      "545\n"
     ]
    }
   ],
   "source": [
    "#3 convert an integer to a string\n",
    "\n",
    "my_integer = 545\n",
    "\n",
    "my_string = str(my_integer)\n",
    "\n",
    "print(my_string)"
   ]
  },
  {
   "cell_type": "code",
   "execution_count": null,
   "id": "97ddeb24-f947-498d-8372-7a06343ecb97",
   "metadata": {},
   "outputs": [],
   "source": [
    "#4 convert a list to a tuple.\n",
    "\n",
    "my_list = [1, 2, 3, \"prashant\", \"mangesh\"]\n",
    "\n",
    "m"
   ]
  }
 ],
 "metadata": {
  "kernelspec": {
   "display_name": "Python 3 (ipykernel)",
   "language": "python",
   "name": "python3"
  },
  "language_info": {
   "codemirror_mode": {
    "name": "ipython",
    "version": 3
   },
   "file_extension": ".py",
   "mimetype": "text/x-python",
   "name": "python",
   "nbconvert_exporter": "python",
   "pygments_lexer": "ipython3",
   "version": "3.10.8"
  }
 },
 "nbformat": 4,
 "nbformat_minor": 5
}
